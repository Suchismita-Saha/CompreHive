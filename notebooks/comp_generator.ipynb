{
 "cells": [
  {
   "cell_type": "markdown",
   "metadata": {},
   "source": [
    "### Importing necessary libraries"
   ]
  },
  {
   "cell_type": "code",
   "execution_count": 1,
   "metadata": {},
   "outputs": [
    {
     "name": "stderr",
     "output_type": "stream",
     "text": [
      "e:\\Learnings\\Comprehension-generator\\venv\\lib\\site-packages\\tqdm\\auto.py:21: TqdmWarning: IProgress not found. Please update jupyter and ipywidgets. See https://ipywidgets.readthedocs.io/en/stable/user_install.html\n",
      "  from .autonotebook import tqdm as notebook_tqdm\n"
     ]
    }
   ],
   "source": [
    "from dotenv import load_dotenv\n",
    "import os\n",
    "from langchain_core.prompts.prompt import PromptTemplate\n",
    "from langchain_google_genai import ChatGoogleGenerativeAI\n",
    "from langchain_core.output_parsers import StrOutputParser\n",
    "import json\n",
    "from pathlib import Path\n",
    "from operator import itemgetter"
   ]
  },
  {
   "cell_type": "markdown",
   "metadata": {},
   "source": [
    "### Loading Google API Key and Langchain API Key from environment variables"
   ]
  },
  {
   "cell_type": "code",
   "execution_count": 2,
   "metadata": {},
   "outputs": [],
   "source": [
    "# Load environment variables from .env file\n",
    "load_dotenv()\n",
    "\n",
    "# Set the GOOGLE_API_KEY environment variable to the value retrieved from .env file\n",
    "os.environ[\"GOOGLE_API_KEY\"] = os.getenv(\"GOOGLE_API_KEY\")\n",
    "\n",
    "## Langsmith tracking\n",
    "os.environ[\"LANGCHAIN_TRACING_V2\"]=\"true\"\n",
    "os.environ[\"LANGCHAIN_API_KEY\"]=os.getenv(\"LANGCHAIN_API_KEY\")"
   ]
  },
  {
   "cell_type": "markdown",
   "metadata": {},
   "source": [
    "Initializing Large Language Model-Gemini-1.5-pro-latest"
   ]
  },
  {
   "cell_type": "code",
   "execution_count": 3,
   "metadata": {},
   "outputs": [],
   "source": [
    "llm = ChatGoogleGenerativeAI(model=\"gemini-1.5-pro-latest\", temperature=0.1)"
   ]
  },
  {
   "cell_type": "markdown",
   "metadata": {},
   "source": [
    "Loading JSON response file"
   ]
  },
  {
   "cell_type": "code",
   "execution_count": 4,
   "metadata": {},
   "outputs": [],
   "source": [
    "path_absolute = Path(\"E:\\Learnings\\Comprehension-generator\")\n",
    "path_relative = Path(\"response.json\")\n",
    "full_path = path_absolute / path_relative\n",
    "\n",
    "with open(full_path,'r') as f:\n",
    "   RESPONSE_JSON = json.load(f)"
   ]
  },
  {
   "cell_type": "code",
   "execution_count": 5,
   "metadata": {},
   "outputs": [
    {
     "data": {
      "text/plain": [
       "{'comprehension_passage': 'This is a sample comprehension passage. It contains several sentences providing information or a story.',\n",
       " 'mcqs': [{'question': 'What is the capital of France?',\n",
       "   'options': ['London', 'Paris', 'Berlin', 'Rome'],\n",
       "   'answer_key': ''},\n",
       "  {'question': \"Who wrote 'To Kill a Mockingbird'?\",\n",
       "   'options': ['Harper Lee',\n",
       "    'J.K. Rowling',\n",
       "    'Stephen King',\n",
       "    'Charles Dickens'],\n",
       "   'answer_key': 0}],\n",
       " 'short_answer_questions': [{'question': 'What is the main theme of the passage?',\n",
       "   'demo_answer': 'The main theme of the passage is about...'},\n",
       "  {'question': 'Explain the significance of the character X in the passage.',\n",
       "   'demo_answer': 'The character X is significant because...'}],\n",
       " 'long_answer_questions': [{'question': 'Discuss the impact of climate change on global agriculture.',\n",
       "   'demo_answer': 'Climate change has a profound impact on global agriculture...'},\n",
       "  {'question': 'Analyze the character development in the provided passage.',\n",
       "   'demo_answer': 'The character development in the passage can be analyzed by...'}]}"
      ]
     },
     "execution_count": 5,
     "metadata": {},
     "output_type": "execute_result"
    }
   ],
   "source": [
    "RESPONSE_JSON"
   ]
  },
  {
   "cell_type": "markdown",
   "metadata": {},
   "source": [
    "Comprehension and question generation instruction"
   ]
  },
  {
   "cell_type": "code",
   "execution_count": 6,
   "metadata": {},
   "outputs": [],
   "source": [
    "generate_instruction= \"\"\"\n",
    "You are an expert comprehension generator\\\n",
    "    Given a specific {topic} your task is to\\  \n",
    "    generate a comprehension passage within strictly following the given word range of {words} words \\\n",
    "    keeping in mind the difficulty level {difficulty}\n",
    "    Next you have to have to generate MCQS, short answer type and long answer type questions.\n",
    "    The number of questions for MCQ will be {mcq_no},do not generate if 0\\\n",
    "    for short answer type{sa_no}, do not generate if 0 and\\\n",
    "    for long answer type{la_no},do not generate if 0.\n",
    "    Provide the demo answers for all the generated questions of MCQ, short answer and long answer questions at the end.\n",
    "    The long type question demo answers should be of minimimum 100 words\\\n",
    "    Provide the output in the given format\\\n",
    "    There should not be any marker just the passage and the questions\\\n",
    "    {RESPONSE_JSON}\n",
    "    \"\"\""
   ]
  },
  {
   "cell_type": "markdown",
   "metadata": {},
   "source": [
    "Comprehension and question generation prompt template"
   ]
  },
  {
   "cell_type": "code",
   "execution_count": 7,
   "metadata": {},
   "outputs": [],
   "source": [
    "generation_prompt= PromptTemplate(\n",
    "    input_variables=['topic','words','difficulty','mcq_no','sa_no','la_no','RESPONSE_JSON'],\n",
    "    template= generate_instruction\n",
    ")"
   ]
  },
  {
   "cell_type": "code",
   "execution_count": 8,
   "metadata": {},
   "outputs": [
    {
     "data": {
      "text/plain": [
       "PromptTemplate(input_variables=['RESPONSE_JSON', 'difficulty', 'la_no', 'mcq_no', 'sa_no', 'topic', 'words'], template='\\nYou are an expert comprehension generator\\\\ Given a specific {topic} your task is to\\\\  \\ngenerate a comprehension passage within {words} words keeping in mind the difficulty level {difficulty}\\nNext you have to have to generate MCQS, short answer type and long answer type questions.\\nThe number of questions for MCQ will be {mcq_no},for short answer type{sa_no} andfor long answer type{la_no}.\\nProvide the demo answers for all the generated questions of MCQ, short answer and long answer questions at the end.\\nThe long type question demo answers should be of minimimum 100 wordsProvide the output in the given format{RESPONSE_JSON}\\nThe #RESPONSE_JSON keys and values should be enclosed within # double quotes\"\"\\n')"
      ]
     },
     "execution_count": 8,
     "metadata": {},
     "output_type": "execute_result"
    }
   ],
   "source": [
    "generation_prompt"
   ]
  },
  {
   "cell_type": "markdown",
   "metadata": {},
   "source": [
    " Creating an instance of StrOutputParser for parsing the output"
   ]
  },
  {
   "cell_type": "code",
   "execution_count": 9,
   "metadata": {},
   "outputs": [],
   "source": [
    "output_parser = StrOutputParser()"
   ]
  },
  {
   "cell_type": "markdown",
   "metadata": {},
   "source": [
    "Generation chain"
   ]
  },
  {
   "cell_type": "code",
   "execution_count": 10,
   "metadata": {},
   "outputs": [],
   "source": [
    "chain_generation=generation_prompt| llm| output_parser "
   ]
  },
  {
   "cell_type": "code",
   "execution_count": 11,
   "metadata": {},
   "outputs": [
    {
     "data": {
      "text/plain": [
       "PromptTemplate(input_variables=['RESPONSE_JSON', 'difficulty', 'la_no', 'mcq_no', 'sa_no', 'topic', 'words'], template='\\nYou are an expert comprehension generator\\\\ Given a specific {topic} your task is to\\\\  \\ngenerate a comprehension passage within {words} words keeping in mind the difficulty level {difficulty}\\nNext you have to have to generate MCQS, short answer type and long answer type questions.\\nThe number of questions for MCQ will be {mcq_no},for short answer type{sa_no} andfor long answer type{la_no}.\\nProvide the demo answers for all the generated questions of MCQ, short answer and long answer questions at the end.\\nThe long type question demo answers should be of minimimum 100 wordsProvide the output in the given format{RESPONSE_JSON}\\nThe #RESPONSE_JSON keys and values should be enclosed within # double quotes\"\"\\n')\n",
       "| ChatGoogleGenerativeAI(model='gemini-pro', client=genai.GenerativeModel(\n",
       "      model_name='models/gemini-pro',\n",
       "      generation_config={},\n",
       "      safety_settings={},\n",
       "      tools=None,\n",
       "      system_instruction=None,\n",
       "  ))\n",
       "| StrOutputParser()"
      ]
     },
     "execution_count": 11,
     "metadata": {},
     "output_type": "execute_result"
    }
   ],
   "source": [
    "chain_generation"
   ]
  },
  {
   "cell_type": "markdown",
   "metadata": {},
   "source": [
    "Review instructions"
   ]
  },
  {
   "cell_type": "code",
   "execution_count": 12,
   "metadata": {},
   "outputs": [],
   "source": [
    "review_instruction= \"\"\"\n",
    "    As an expert in English grammar and writing, your task is to assess a comprehension passage{response}\\\n",
    "    The passage provided is {words} words long and pertains to the topic of {topic}\\\n",
    "    Your evaluation should include an assessment of the passage's difficulty level, as specified {difficulty}\\\n",
    "    Thoroughly check the number of words in the passage as mentioned {words} words  is followed correctly\\\n",
    "    Furthermore, you are required to evaluate multiple-choice questions, short-answer questions, and long-answer questions embedded within the passage\\\n",
    "    If any of the questions do not align with the cognitive and analytical abilities expected of the students, you must suggest changes to ensure they are suitable\\\n",
    "    Additionally, you are to evaluate the provided answers to the questions, ensuring they are accurate and appropriate.\n",
    "    Please ensure that the output consists solely of the updated comprehension passage and the questions along with their answers\\\n",
    "    as per the given format {RESPONSE_JSON}\\\n",
    "    Ensure that in the {response},commprehension passage and the demo answers does not contain unnecessary line gaps  \\\n",
    "    Also  make sure that the dictionary is enclosed with quotes\\\n",
    "    \"\"\""
   ]
  },
  {
   "cell_type": "markdown",
   "metadata": {},
   "source": [
    "Review prompt template"
   ]
  },
  {
   "cell_type": "code",
   "execution_count": 13,
   "metadata": {},
   "outputs": [],
   "source": [
    "review_template= PromptTemplate(\n",
    "    input_variables=['topic','words','difficulty','response','RESPONSE_JSON'],\n",
    "    template= review_instruction\n",
    ")"
   ]
  },
  {
   "cell_type": "code",
   "execution_count": 14,
   "metadata": {},
   "outputs": [
    {
     "data": {
      "text/plain": [
       "PromptTemplate(input_variables=['RESPONSE_JSON', 'difficulty', 'response', 'topic', 'words'], template=\"\\nAs an expert in English grammar and writing, your task is to assess a comprehension passage{response}The passage provided is {words} words long and pertains to the topic of {topic}Your evaluation should include an assessment of the passage's difficulty level, as specified {difficulty}Furthermore, you are required to evaluate multiple-choice questions, short-answer questions, and long-answer questions embedded within the passageIf any of the questions do not align with the cognitive and analytical abilities expected of the students, you must suggest changes to ensure they are suitableAdditionally, you are to evaluate the provided answers to the questions, ensuring they are accurate and appropriate.\\nPlease ensure that the output consists solely of the updated comprehension passage and the questions along with their answersas per the given format {RESPONSE_JSON}In the output format keys and values of  JSON  within # double quotes\\n\")"
      ]
     },
     "execution_count": 14,
     "metadata": {},
     "output_type": "execute_result"
    }
   ],
   "source": [
    "review_template"
   ]
  },
  {
   "cell_type": "markdown",
   "metadata": {},
   "source": [
    "Combining generation chain with review chain"
   ]
  },
  {
   "cell_type": "code",
   "execution_count": 15,
   "metadata": {},
   "outputs": [],
   "source": [
    "review_chain= (\n",
    "    {\"response\": chain_generation, \"difficulty\": itemgetter(\"difficulty\"), \"topic\": itemgetter(\"topic\"), \"words\": itemgetter(\"words\"), \"RESPONSE_JSON\": itemgetter(\"RESPONSE_JSON\")}\n",
    "    | review_template\n",
    "    | llm\n",
    "    | StrOutputParser() \n",
    ")"
   ]
  },
  {
   "cell_type": "code",
   "execution_count": 16,
   "metadata": {},
   "outputs": [
    {
     "data": {
      "text/plain": [
       "{\n",
       "  response: PromptTemplate(input_variables=['RESPONSE_JSON', 'difficulty', 'la_no', 'mcq_no', 'sa_no', 'topic', 'words'], template='\\nYou are an expert comprehension generator\\\\ Given a specific {topic} your task is to\\\\  \\ngenerate a comprehension passage within {words} words keeping in mind the difficulty level {difficulty}\\nNext you have to have to generate MCQS, short answer type and long answer type questions.\\nThe number of questions for MCQ will be {mcq_no},for short answer type{sa_no} andfor long answer type{la_no}.\\nProvide the demo answers for all the generated questions of MCQ, short answer and long answer questions at the end.\\nThe long type question demo answers should be of minimimum 100 wordsProvide the output in the given format{RESPONSE_JSON}\\nThe #RESPONSE_JSON keys and values should be enclosed within # double quotes\"\"\\n')\n",
       "            | ChatGoogleGenerativeAI(model='gemini-pro', client=genai.GenerativeModel(\n",
       "                  model_name='models/gemini-pro',\n",
       "                  generation_config={},\n",
       "                  safety_settings={},\n",
       "                  tools=None,\n",
       "                  system_instruction=None,\n",
       "              ))\n",
       "            | StrOutputParser(),\n",
       "  difficulty: RunnableLambda(itemgetter('difficulty')),\n",
       "  topic: RunnableLambda(itemgetter('topic')),\n",
       "  words: RunnableLambda(itemgetter('words')),\n",
       "  RESPONSE_JSON: RunnableLambda(itemgetter('RESPONSE_JSON'))\n",
       "}\n",
       "| PromptTemplate(input_variables=['RESPONSE_JSON', 'difficulty', 'response', 'topic', 'words'], template=\"\\nAs an expert in English grammar and writing, your task is to assess a comprehension passage{response}The passage provided is {words} words long and pertains to the topic of {topic}Your evaluation should include an assessment of the passage's difficulty level, as specified {difficulty}Furthermore, you are required to evaluate multiple-choice questions, short-answer questions, and long-answer questions embedded within the passageIf any of the questions do not align with the cognitive and analytical abilities expected of the students, you must suggest changes to ensure they are suitableAdditionally, you are to evaluate the provided answers to the questions, ensuring they are accurate and appropriate.\\nPlease ensure that the output consists solely of the updated comprehension passage and the questions along with their answersas per the given format {RESPONSE_JSON}In the output format keys and values of  JSON  within # double quotes\\n\")\n",
       "| ChatGoogleGenerativeAI(model='gemini-pro', client=genai.GenerativeModel(\n",
       "      model_name='models/gemini-pro',\n",
       "      generation_config={},\n",
       "      safety_settings={},\n",
       "      tools=None,\n",
       "      system_instruction=None,\n",
       "  ))\n",
       "| StrOutputParser()"
      ]
     },
     "execution_count": 16,
     "metadata": {},
     "output_type": "execute_result"
    }
   ],
   "source": [
    "review_chain"
   ]
  },
  {
   "cell_type": "markdown",
   "metadata": {},
   "source": [
    "Invoking the review chain to generate a refined output"
   ]
  },
  {
   "cell_type": "code",
   "execution_count": 17,
   "metadata": {},
   "outputs": [],
   "source": [
    "response= review_chain.invoke({'RESPONSE_JSON':RESPONSE_JSON, 'difficulty':'easy', 'la_no':2, 'mcq_no':3, 'sa_no':1, 'topic':'India', 'words':300 })"
   ]
  },
  {
   "cell_type": "code",
   "execution_count": 18,
   "metadata": {},
   "outputs": [
    {
     "name": "stdout",
     "output_type": "stream",
     "text": [
      "{\n",
      " \"comprehension_passage\": \"India is a country in South Asia. It is the second most populous country in the world, with a population of over 1.3 billion people. India is a diverse country, with many different languages, religions, and cultures. The official languages of India are Hindi and English. The capital of India is New Delhi. India is a democracy, with a parliamentary system of government. The President of India is the head of state, and the Prime Minister of India is the head of government.\",\n",
      " \"mcqs\": [\n",
      "  {\n",
      "   \"question\": \"What is the capital of India?\",\n",
      "   \"options\": [\n",
      "    \"Mumbai\",\n",
      "    \"New Delhi\",\n",
      "    \"Kolkata\",\n",
      "    \"Chennai\"\n",
      "   ],\n",
      "   \"answer_key\": \"New Delhi\"\n",
      "  },\n",
      "  {\n",
      "   \"question\": \"What is the official language of India?\",\n",
      "   \"options\": [\n",
      "    \"Hindi\",\n",
      "    \"English\",\n",
      "    \"Tamil\",\n",
      "    \"Telugu\"\n",
      "   ],\n",
      "   \"answer_key\": \"Hindi\"\n",
      "  },\n",
      "  {\n",
      "   \"question\": \"What type of government does India have?\",\n",
      "   \"options\": [\n",
      "    \"Monarchy\",\n",
      "    \"Democracy\",\n",
      "    \"Dictatorship\",\n",
      "    \"Oligarchy\"\n",
      "   ],\n",
      "   \"answer_key\": \"Democracy\"\n",
      "  }\n",
      " ],\n",
      " \"short_answer_questions\": [\n",
      "  {\n",
      "   \"question\": \"What is the significance of the Ganges River to India?\",\n",
      "   \"demo_answer\": \"The Ganges River is a sacred river to Hindus and is considered to be the holiest river in India. It is also a major source of water for irrigation and drinking water for millions of people.\"\n",
      "  }\n",
      " ],\n",
      " \"long_answer_questions\": [\n",
      "  {\n",
      "   \"question\": \"Discuss the challenges facing India's economy.\",\n",
      "   \"demo_answer\": \"India's economy is facing a number of challenges, including poverty, unemployment, and inflation. The country also has a large budget deficit and a high level of public debt. These challenges are making it difficult for India to achieve its economic goals.\"\n",
      "  },\n",
      "  {\n",
      "   \"question\": \"Analyze the role of religion in Indian society.\",\n",
      "   \"demo_answer\": \"Religion plays a very important role in Indian society. The majority of Indians are Hindu, but there are also significant populations of Muslims, Christians, Sikhs, and Buddhists. Religion influences many aspects of Indian life, including family structure, marriage, and diet.\"\n",
      "  }\n",
      " ]\n",
      "}\n"
     ]
    }
   ],
   "source": [
    "print(response)"
   ]
  },
  {
   "cell_type": "markdown",
   "metadata": {},
   "source": [
    "Converting the review chain response to JSON"
   ]
  },
  {
   "cell_type": "code",
   "execution_count": 19,
   "metadata": {},
   "outputs": [],
   "source": [
    "response= json.loads(response)"
   ]
  },
  {
   "cell_type": "code",
   "execution_count": 20,
   "metadata": {},
   "outputs": [
    {
     "data": {
      "text/plain": [
       "{'comprehension_passage': 'India is a country in South Asia. It is the second most populous country in the world, with a population of over 1.3 billion people. India is a diverse country, with many different languages, religions, and cultures. The official languages of India are Hindi and English. The capital of India is New Delhi. India is a democracy, with a parliamentary system of government. The President of India is the head of state, and the Prime Minister of India is the head of government.',\n",
       " 'mcqs': [{'question': 'What is the capital of India?',\n",
       "   'options': ['Mumbai', 'New Delhi', 'Kolkata', 'Chennai'],\n",
       "   'answer_key': 'New Delhi'},\n",
       "  {'question': 'What is the official language of India?',\n",
       "   'options': ['Hindi', 'English', 'Tamil', 'Telugu'],\n",
       "   'answer_key': 'Hindi'},\n",
       "  {'question': 'What type of government does India have?',\n",
       "   'options': ['Monarchy', 'Democracy', 'Dictatorship', 'Oligarchy'],\n",
       "   'answer_key': 'Democracy'}],\n",
       " 'short_answer_questions': [{'question': 'What is the significance of the Ganges River to India?',\n",
       "   'demo_answer': 'The Ganges River is a sacred river to Hindus and is considered to be the holiest river in India. It is also a major source of water for irrigation and drinking water for millions of people.'}],\n",
       " 'long_answer_questions': [{'question': \"Discuss the challenges facing India's economy.\",\n",
       "   'demo_answer': \"India's economy is facing a number of challenges, including poverty, unemployment, and inflation. The country also has a large budget deficit and a high level of public debt. These challenges are making it difficult for India to achieve its economic goals.\"},\n",
       "  {'question': 'Analyze the role of religion in Indian society.',\n",
       "   'demo_answer': 'Religion plays a very important role in Indian society. The majority of Indians are Hindu, but there are also significant populations of Muslims, Christians, Sikhs, and Buddhists. Religion influences many aspects of Indian life, including family structure, marriage, and diet.'}]}"
      ]
     },
     "execution_count": 20,
     "metadata": {},
     "output_type": "execute_result"
    }
   ],
   "source": [
    "response"
   ]
  }
 ],
 "metadata": {
  "kernelspec": {
   "display_name": "Python 3",
   "language": "python",
   "name": "python3"
  },
  "language_info": {
   "codemirror_mode": {
    "name": "ipython",
    "version": 3
   },
   "file_extension": ".py",
   "mimetype": "text/x-python",
   "name": "python",
   "nbconvert_exporter": "python",
   "pygments_lexer": "ipython3",
   "version": "3.10.14"
  }
 },
 "nbformat": 4,
 "nbformat_minor": 2
}
